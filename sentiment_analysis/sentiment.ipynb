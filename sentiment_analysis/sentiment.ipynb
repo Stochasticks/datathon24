{
 "cells": [
  {
   "cell_type": "code",
   "execution_count": 45,
   "id": "d4ec9484-9528-4a81-8a39-9b464eaf7f02",
   "metadata": {},
   "outputs": [
    {
     "name": "stdout",
     "output_type": "stream",
     "text": [
      "Requirement already satisfied: praw in c:\\users\\mettle\\anaconda3\\lib\\site-packages (7.8.1)\n",
      "Requirement already satisfied: prawcore<3,>=2.4 in c:\\users\\mettle\\anaconda3\\lib\\site-packages (from praw) (2.4.0)\n",
      "Requirement already satisfied: update_checker>=0.18 in c:\\users\\mettle\\anaconda3\\lib\\site-packages (from praw) (0.18.0)\n",
      "Requirement already satisfied: websocket-client>=0.54.0 in c:\\users\\mettle\\anaconda3\\lib\\site-packages (from praw) (0.58.0)\n",
      "Requirement already satisfied: requests<3.0,>=2.6.0 in c:\\users\\mettle\\anaconda3\\lib\\site-packages (from prawcore<3,>=2.4->praw) (2.31.0)\n",
      "Requirement already satisfied: six in c:\\users\\mettle\\anaconda3\\lib\\site-packages (from websocket-client>=0.54.0->praw) (1.16.0)\n",
      "Requirement already satisfied: charset-normalizer<4,>=2 in c:\\users\\mettle\\anaconda3\\lib\\site-packages (from requests<3.0,>=2.6.0->prawcore<3,>=2.4->praw) (2.0.4)\n",
      "Requirement already satisfied: idna<4,>=2.5 in c:\\users\\mettle\\anaconda3\\lib\\site-packages (from requests<3.0,>=2.6.0->prawcore<3,>=2.4->praw) (3.4)\n",
      "Requirement already satisfied: urllib3<3,>=1.21.1 in c:\\users\\mettle\\anaconda3\\lib\\site-packages (from requests<3.0,>=2.6.0->prawcore<3,>=2.4->praw) (1.26.18)\n",
      "Requirement already satisfied: certifi>=2017.4.17 in c:\\users\\mettle\\anaconda3\\lib\\site-packages (from requests<3.0,>=2.6.0->prawcore<3,>=2.4->praw) (2023.11.17)\n"
     ]
    }
   ],
   "source": [
    "!pip install selenium\n",
    "!pip install undetected-chromedriver\n",
    "import nltk\n",
    "from nltk.util import ngrams\n",
    "from nltk.sentiment.vader import SentimentIntensityAnalyzer as SIA\n",
    "import matplotlib.pyplot as plt\n",
    "import math\n",
    "import datetime as dt\n",
    "import pandas as pd\n",
    "import numpy as np\n",
    "import re\n",
    "import requests\n",
    "import html\n",
    "import undetected_chromedriver as uc\n",
    "from selenium import webdriver\n",
    "from selenium import webdriver\n",
    "from selenium.webdriver.common.by import By\n",
    "from selenium.webdriver.chrome.service import Service\n",
    "from selenium.webdriver.chrome.options import Options\n",
    "from selenium.webdriver.support.ui import WebDriverWait\n",
    "from selenium.webdriver.support import expected_conditions as EC"
   ]
  },
  {
   "cell_type": "code",
   "execution_count": 20,
   "id": "25689937-ced7-4e5c-b2eb-850025bf89b5",
   "metadata": {},
   "outputs": [
    {
     "name": "stderr",
     "output_type": "stream",
     "text": [
      "[nltk_data] Downloading package vader_lexicon to\n",
      "[nltk_data]     C:\\Users\\Mettle\\AppData\\Roaming\\nltk_data...\n",
      "[nltk_data]   Package vader_lexicon is already up-to-date!\n",
      "[nltk_data] Downloading package stopwords to\n",
      "[nltk_data]     C:\\Users\\Mettle\\AppData\\Roaming\\nltk_data...\n",
      "[nltk_data]   Package stopwords is already up-to-date!\n"
     ]
    },
    {
     "data": {
      "text/plain": [
       "True"
      ]
     },
     "execution_count": 20,
     "metadata": {},
     "output_type": "execute_result"
    }
   ],
   "source": [
    "nltk.download('vader_lexicon')\n",
    "nltk.download('stopwords')"
   ]
  },
  {
   "cell_type": "code",
   "execution_count": 75,
   "id": "5b39ab64-69ce-45f4-b85a-fee45e5b80ae",
   "metadata": {},
   "outputs": [],
   "source": [
    "response = requests.get(\"https://api.pullpush.io/reddit/search/comment/?q=MSFT&subreddit=wallstreetbets\")\n",
    "\n",
    "if response.status_code == 200:\n",
    "    data = response.json()\n",
    "    body_html_list = [comment['body_html'] for comment in data['data'] if 'body_html' in comment]\n",
    "else:\n",
    "    print(f\"Request failed with status code: {response.status_code}\")"
   ]
  },
  {
   "cell_type": "code",
   "execution_count": 76,
   "id": "8365314c-bf82-4dff-9514-0620b2cf6520",
   "metadata": {},
   "outputs": [],
   "source": [
    "# Clean up data : \n",
    "def remove_html_tags(text):\n",
    "    text = html.unescape(text)\n",
    "    text = re.sub(r'<.*?>', '', text)\n",
    "    text = text.replace('\\n', ' ')\n",
    "    return text.strip()\n",
    "\n",
    "def preprocess_data(body_html_list):\n",
    "    cleaned_comments = [remove_html_tags(html) for html in body_html_list]\n",
    "    return cleaned_comments\n",
    "\n",
    "    \n",
    "comments = preprocess_data(body_html_list)"
   ]
  },
  {
   "cell_type": "code",
   "execution_count": 77,
   "id": "b532a275-74ff-49d4-8022-c32d8e457068",
   "metadata": {},
   "outputs": [
    {
     "name": "stdout",
     "output_type": "stream",
     "text": [
      "0.26\n"
     ]
    }
   ],
   "source": [
    "custom_words = {\n",
    "    \"tendies\": 2.0,\n",
    "    \"diamond hands\": 1.5,\n",
    "    \"moon\": 2.0,\n",
    "    \"rocket\": 1.8,\n",
    "    \"gainz\": 1.5,\n",
    "    \"bullish\": 1.2,\n",
    "    \"yolo\": 0.5,\n",
    "    \"green\": 1.3,\n",
    "    \"mom\":-1,\n",
    "    \"mommy\":-1,\n",
    "    \"printer go brrr\": 1.0,\n",
    "    \"money printer\": 2.0,\n",
    "    \"bagholder\": -2.0,\n",
    "    \"paper hands\": -1.5,\n",
    "    \"red\": -1.2,\n",
    "    \"rekt\": -1.8,\n",
    "    \"bag\": -1.5,\n",
    "    \"short\": -1.0,\n",
    "    \"crash\": -2.0,\n",
    "    \"dump\": -1.7,\n",
    "    \"bleeding\": -2.0,\n",
    "    \"hold the line\": 0.5,\n",
    "    \"degenerate\": 0.0,\n",
    "    \"fomo\": -0.5,\n",
    "    \"stonks\": 1.0,\n",
    "    \"brrr\":2,\n",
    "    \"fries\":-1.0,\n",
    "    \"burger\":-1.0,\n",
    "    \"gamble\":-1.0,\n",
    "    \"f\": -2.0\n",
    "}\n",
    "\n",
    "def generate_ngrams(text, n_values=[1, 2]):\n",
    "    tokens = nltk.word_tokenize(text)\n",
    "    tokens = [token.lower() for token in tokens]\n",
    "    ngram_list = []\n",
    "    for n in n_values:\n",
    "        ngram_list.extend([' '.join(grams) for grams in ngrams(tokens, n)])\n",
    "    return ngram_list\n",
    "\n",
    "def commentSentiment(comments, custom_words=None):\n",
    "    sia = SIA()\n",
    "\n",
    "    if custom_words:\n",
    "        sia.lexicon.update(custom_words)\n",
    "\n",
    "    results = []\n",
    "\n",
    "    for line in comments:\n",
    "        ngram_list = generate_ngrams(line)\n",
    "        \n",
    "        score = {'neg': 0, 'neu': 0, 'pos': 0, 'compound': 0}\n",
    "        \n",
    "        for ngram in ngram_list:\n",
    "            if ngram in sia.lexicon:\n",
    "                ngram_score = sia.polarity_scores(ngram)\n",
    "                score['neg'] += ngram_score['neg']\n",
    "                score['neu'] += ngram_score['neu']\n",
    "                score['pos'] += ngram_score['pos']\n",
    "                score['compound'] += ngram_score['compound']\n",
    "        \n",
    "        score['comment'] = line\n",
    "        results.append(score)\n",
    "\n",
    "    df = pd.DataFrame.from_records(results)\n",
    "    \n",
    "    df['label'] = 0\n",
    "    df.loc[df['compound'] > 0.10, 'label'] = 1\n",
    "    df.loc[df['compound'] < -0.10, 'label'] = -1\n",
    "\n",
    "    averageScore = df['label'].mean()\n",
    "\n",
    "    return averageScore\n",
    "\n",
    "print(commentSentiment(comments))"
   ]
  },
  {
   "cell_type": "markdown",
   "id": "ec595e1f-df71-47ee-9e8a-0492d20f6d71",
   "metadata": {},
   "source": [
    "## Analzying for investor sentiment"
   ]
  },
  {
   "cell_type": "code",
   "execution_count": 86,
   "id": "8408acf0-90b0-4cae-986b-6d70258fe9f5",
   "metadata": {},
   "outputs": [
    {
     "name": "stdout",
     "output_type": "stream",
     "text": [
      "Requirement already satisfied: selenium in c:\\users\\mettle\\anaconda3\\lib\\site-packages (4.26.1)\n",
      "Requirement already satisfied: urllib3[socks]<3,>=1.26 in c:\\users\\mettle\\anaconda3\\lib\\site-packages (from selenium) (1.26.18)\n",
      "Requirement already satisfied: trio~=0.17 in c:\\users\\mettle\\anaconda3\\lib\\site-packages (from selenium) (0.27.0)\n",
      "Requirement already satisfied: trio-websocket~=0.9 in c:\\users\\mettle\\anaconda3\\lib\\site-packages (from selenium) (0.11.1)\n",
      "Requirement already satisfied: certifi>=2021.10.8 in c:\\users\\mettle\\anaconda3\\lib\\site-packages (from selenium) (2023.11.17)\n",
      "Requirement already satisfied: typing_extensions~=4.9 in c:\\users\\mettle\\anaconda3\\lib\\site-packages (from selenium) (4.12.2)\n",
      "Requirement already satisfied: websocket-client~=1.8 in c:\\users\\mettle\\anaconda3\\lib\\site-packages (from selenium) (1.8.0)\n",
      "Requirement already satisfied: attrs>=23.2.0 in c:\\users\\mettle\\anaconda3\\lib\\site-packages (from trio~=0.17->selenium) (24.2.0)\n",
      "Requirement already satisfied: sortedcontainers in c:\\users\\mettle\\anaconda3\\lib\\site-packages (from trio~=0.17->selenium) (2.4.0)\n",
      "Requirement already satisfied: idna in c:\\users\\mettle\\anaconda3\\lib\\site-packages (from trio~=0.17->selenium) (3.4)\n",
      "Requirement already satisfied: outcome in c:\\users\\mettle\\anaconda3\\lib\\site-packages (from trio~=0.17->selenium) (1.3.0.post0)\n",
      "Requirement already satisfied: sniffio>=1.3.0 in c:\\users\\mettle\\anaconda3\\lib\\site-packages (from trio~=0.17->selenium) (1.3.1)\n",
      "Requirement already satisfied: cffi>=1.14 in c:\\users\\mettle\\anaconda3\\lib\\site-packages (from trio~=0.17->selenium) (1.15.1)\n",
      "Requirement already satisfied: wsproto>=0.14 in c:\\users\\mettle\\anaconda3\\lib\\site-packages (from trio-websocket~=0.9->selenium) (1.2.0)\n",
      "Requirement already satisfied: PySocks!=1.5.7,<2.0,>=1.5.6 in c:\\users\\mettle\\anaconda3\\lib\\site-packages (from urllib3[socks]<3,>=1.26->selenium) (1.7.1)\n",
      "Requirement already satisfied: pycparser in c:\\users\\mettle\\anaconda3\\lib\\site-packages (from cffi>=1.14->trio~=0.17->selenium) (2.21)\n",
      "Requirement already satisfied: h11<1,>=0.9.0 in c:\\users\\mettle\\anaconda3\\lib\\site-packages (from wsproto>=0.14->trio-websocket~=0.9->selenium) (0.14.0)\n"
     ]
    }
   ],
   "source": []
  },
  {
   "cell_type": "code",
   "execution_count": 105,
   "id": "ffd0840f-c6cf-41e3-9130-1c4cf70727fa",
   "metadata": {},
   "outputs": [
    {
     "name": "stdout",
     "output_type": "stream",
     "text": [
      "Requirement already satisfied: undetected-chromedriver in c:\\users\\mettle\\anaconda3\\lib\\site-packages (3.5.5)\n",
      "Requirement already satisfied: selenium>=4.9.0 in c:\\users\\mettle\\anaconda3\\lib\\site-packages (from undetected-chromedriver) (4.26.1)\n",
      "Requirement already satisfied: requests in c:\\users\\mettle\\anaconda3\\lib\\site-packages (from undetected-chromedriver) (2.31.0)\n",
      "Requirement already satisfied: websockets in c:\\users\\mettle\\anaconda3\\lib\\site-packages (from undetected-chromedriver) (13.1)\n",
      "Requirement already satisfied: urllib3[socks]<3,>=1.26 in c:\\users\\mettle\\anaconda3\\lib\\site-packages (from selenium>=4.9.0->undetected-chromedriver) (1.26.18)\n",
      "Requirement already satisfied: trio~=0.17 in c:\\users\\mettle\\anaconda3\\lib\\site-packages (from selenium>=4.9.0->undetected-chromedriver) (0.27.0)\n",
      "Requirement already satisfied: trio-websocket~=0.9 in c:\\users\\mettle\\anaconda3\\lib\\site-packages (from selenium>=4.9.0->undetected-chromedriver) (0.11.1)\n",
      "Requirement already satisfied: certifi>=2021.10.8 in c:\\users\\mettle\\anaconda3\\lib\\site-packages (from selenium>=4.9.0->undetected-chromedriver) (2023.11.17)\n",
      "Requirement already satisfied: typing_extensions~=4.9 in c:\\users\\mettle\\anaconda3\\lib\\site-packages (from selenium>=4.9.0->undetected-chromedriver) (4.12.2)\n",
      "Requirement already satisfied: websocket-client~=1.8 in c:\\users\\mettle\\anaconda3\\lib\\site-packages (from selenium>=4.9.0->undetected-chromedriver) (1.8.0)\n",
      "Requirement already satisfied: charset-normalizer<4,>=2 in c:\\users\\mettle\\anaconda3\\lib\\site-packages (from requests->undetected-chromedriver) (2.0.4)\n",
      "Requirement already satisfied: idna<4,>=2.5 in c:\\users\\mettle\\anaconda3\\lib\\site-packages (from requests->undetected-chromedriver) (3.4)\n",
      "Requirement already satisfied: attrs>=23.2.0 in c:\\users\\mettle\\anaconda3\\lib\\site-packages (from trio~=0.17->selenium>=4.9.0->undetected-chromedriver) (24.2.0)\n",
      "Requirement already satisfied: sortedcontainers in c:\\users\\mettle\\anaconda3\\lib\\site-packages (from trio~=0.17->selenium>=4.9.0->undetected-chromedriver) (2.4.0)\n",
      "Requirement already satisfied: outcome in c:\\users\\mettle\\anaconda3\\lib\\site-packages (from trio~=0.17->selenium>=4.9.0->undetected-chromedriver) (1.3.0.post0)\n",
      "Requirement already satisfied: sniffio>=1.3.0 in c:\\users\\mettle\\anaconda3\\lib\\site-packages (from trio~=0.17->selenium>=4.9.0->undetected-chromedriver) (1.3.1)\n",
      "Requirement already satisfied: cffi>=1.14 in c:\\users\\mettle\\anaconda3\\lib\\site-packages (from trio~=0.17->selenium>=4.9.0->undetected-chromedriver) (1.15.1)\n",
      "Requirement already satisfied: wsproto>=0.14 in c:\\users\\mettle\\anaconda3\\lib\\site-packages (from trio-websocket~=0.9->selenium>=4.9.0->undetected-chromedriver) (1.2.0)\n",
      "Requirement already satisfied: PySocks!=1.5.7,<2.0,>=1.5.6 in c:\\users\\mettle\\anaconda3\\lib\\site-packages (from urllib3[socks]<3,>=1.26->selenium>=4.9.0->undetected-chromedriver) (1.7.1)\n",
      "Requirement already satisfied: pycparser in c:\\users\\mettle\\anaconda3\\lib\\site-packages (from cffi>=1.14->trio~=0.17->selenium>=4.9.0->undetected-chromedriver) (2.21)\n",
      "Requirement already satisfied: h11<1,>=0.9.0 in c:\\users\\mettle\\anaconda3\\lib\\site-packages (from wsproto>=0.14->trio-websocket~=0.9->selenium>=4.9.0->undetected-chromedriver) (0.14.0)\n",
      "Extracted Text: widgets.tipranks.com | Access denied (403)\n",
      "Current session has been terminated.\n",
      "For further information, do not hesitate to contact us.\n",
      "Ref: 70.52.7.173 2024-11-03T00:45:09.633Z\n"
     ]
    }
   ],
   "source": [
    "\n",
    "# Set up Chrome options with a User-Agent header\n",
    "#chrome_options = Options()\n",
    "#chrome_options.add_argument(\"--headless\")\n",
    "#chrome_options.add_argument(\"--no-sandbox\")\n",
    "#chrome_options.add_argument(\"--disable-dev-shm-usage\")\n",
    "#chrome_options.add_argument(\"user-agent=Mozilla/5.0 (Windows NT 10.0; Win64; x64) AppleWebKit/537.36 (KHTML, like Gecko) Chrome/102.0.0.0 Safari/537.36\")\n",
    "\n",
    "driver = uc.Chrome(headless=True,use_subprocess=False)\n",
    "\n",
    "try:\n",
    "    driver.get(url)\n",
    "    \n",
    "    div_element = WebDriverWait(driver, 10).until(\n",
    "        EC.presence_of_element_located((By.CLASS_NAME, \"markets-tipranks\"))\n",
    "    )\n",
    "    \n",
    "    iframe = div_element.find_element(By.TAG_NAME, \"iframe\")\n",
    "    \n",
    "    driver.switch_to.frame(iframe)\n",
    "\n",
    "    target_element = WebDriverWait(driver, 10).until(\n",
    "        EC.presence_of_element_located((By.TAG_NAME, \"body\"))\n",
    "    )\n",
    "\n",
    "    extracted_text = target_element.text\n",
    "    print(\"Extracted Text:\", extracted_text)\n",
    "except Exception as e:\n",
    "    print(f\"An error occurred: {e}\")\n",
    "\n",
    "finally:\n",
    "    driver.quit()"
   ]
  },
  {
   "cell_type": "code",
   "execution_count": 108,
   "id": "dc7228bb-c35f-47dc-b8f5-7c249ad662dd",
   "metadata": {},
   "outputs": [
    {
     "name": "stdout",
     "output_type": "stream",
     "text": [
      "[{'ticker': 'AAPL', 'hedgeFundTrendValue': -386045483.0, 'smartScore': 7, 'bloggerSectorAvg': 0.6914, 'bloggerBullishSentiment': 0.74, 'insidersLast3MonthsSum': -22602362.0, 'newsSentimentsBearishPercent': 0.1, 'newsSentimentsBullishPercent': 0.9, 'investorHoldingChangeLast7Days': -0.00302717579862374, 'investorHoldingChangeLast30Days': 0.00580673178394926, 'priceTarget': 245.84, 'convertedPriceTarget': 245.84, 'convertedPriceTargetCurrencyId': 1, 'fundamentalsReturnOnEquity': 1.574125, 'fundamentalsAssetGrowth': 0.03516, 'technicalsTwelveMonthsMomentum': 0.2878, 'sma': 'Positive', 'analystConsensus': 'ModerateBuy', 'hedgeFundTrend': 'Decreased', 'insiderTrend': 'SoldShares', 'investorSentiment': 'Neutral', 'newsSentiment': 'VeryBullish', 'bloggerConsensus': 'Bullish', 'marketCountryId': 1, 'isomic': 'XNAS'}]\n"
     ]
    }
   ],
   "source": [
    "import requests\n",
    "\n",
    "headers = {\n",
    "    'accept': '*/*',\n",
    "    'accept-language': 'en-US,en;q=0.9',\n",
    "    'priority': 'u=1, i',\n",
    "    'referer': 'https://widgets.tipranks.com/content/v2/cnn/smartscoresmall/index.html?ticker=AAPL',\n",
    "    'sec-ch-ua': '\"Chromium\";v=\"130\", \"Google Chrome\";v=\"130\", \"Not?A_Brand\";v=\"99\"',\n",
    "    'sec-ch-ua-mobile': '?0',\n",
    "    'sec-ch-ua-platform': '\"Windows\"',\n",
    "    'sec-fetch-dest': 'empty',\n",
    "    'sec-fetch-mode': 'cors',\n",
    "    'sec-fetch-site': 'same-origin',\n",
    "    'user-agent': 'Mozilla/5.0 (Windows NT 10.0; Win64; x64) AppleWebKit/537.36 (KHTML, like Gecko) Chrome/130.0.0.0 Safari/537.36',\n",
    "}\n",
    "\n",
    "params = {\n",
    "    'tickers': 'AAPL',\n",
    "}\n",
    "\n",
    "response = requests.get('https://widgets.tipranks.com/api/widgets/stockAnalysisOverview/', params=params, headers=headers)\n",
    "if response.status_code == 200:\n",
    "    data = response.json()\n",
    "    print(data)\n",
    "else:\n",
    "    print(f\"Request failed with status code: {response.status_code}\")"
   ]
  },
  {
   "cell_type": "code",
   "execution_count": null,
   "id": "8873976a-4095-4175-b72c-4f819616930e",
   "metadata": {},
   "outputs": [],
   "source": []
  }
 ],
 "metadata": {
  "kernelspec": {
   "display_name": "Python 3 (ipykernel)",
   "language": "python",
   "name": "python3"
  },
  "language_info": {
   "codemirror_mode": {
    "name": "ipython",
    "version": 3
   },
   "file_extension": ".py",
   "mimetype": "text/x-python",
   "name": "python",
   "nbconvert_exporter": "python",
   "pygments_lexer": "ipython3",
   "version": "3.11.5"
  }
 },
 "nbformat": 4,
 "nbformat_minor": 5
}
